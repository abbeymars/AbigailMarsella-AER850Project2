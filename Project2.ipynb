{
  "nbformat": 4,
  "nbformat_minor": 0,
  "metadata": {
    "colab": {
      "provenance": [],
      "authorship_tag": "ABX9TyNpsN/KERfiEmemi/K8vPhg",
      "include_colab_link": true
    },
    "kernelspec": {
      "name": "python3",
      "display_name": "Python 3"
    },
    "language_info": {
      "name": "python"
    }
  },
  "cells": [
    {
      "cell_type": "markdown",
      "metadata": {
        "id": "view-in-github",
        "colab_type": "text"
      },
      "source": [
        "<a href=\"https://colab.research.google.com/github/abbeymars/AbigailMarsella-AER850Project2/blob/main/Project2.ipynb\" target=\"_parent\"><img src=\"https://colab.research.google.com/assets/colab-badge.svg\" alt=\"Open In Colab\"/></a>"
      ]
    },
    {
      "cell_type": "code",
      "execution_count": 7,
      "metadata": {
        "id": "xUXfd_W56wM8",
        "colab": {
          "base_uri": "https://localhost:8080/"
        },
        "outputId": "bab145d3-c696-4ff7-8585-71fbc39c159d"
      },
      "outputs": [
        {
          "output_type": "stream",
          "name": "stdout",
          "text": [
            "Drive already mounted at /content/drive; to attempt to forcibly remount, call drive.mount(\"/content/drive\", force_remount=True).\n",
            "Training directory: /content/Dataset/Data/train\n",
            "Validation directory: /content/Dataset/Data/valid\n",
            "Test directory: /content/Dataset/Data/test\n",
            "Found 1942 images belonging to 3 classes.\n",
            "Found 431 images belonging to 3 classes.\n",
            "Class indices: {'crack': 0, 'missing-head': 1, 'paint-off': 2}\n",
            "Class indices: {'crack': 0, 'missing-head': 1, 'paint-off': 2}\n"
          ]
        }
      ],
      "source": [
        "import numpy as np\n",
        "import pandas as pd\n",
        "import zipfile\n",
        "import tensorflow as tf\n",
        "from tensorflow.keras.preprocessing.image import ImageDataGenerator\n",
        "from tensorflow.keras.models import Sequential\n",
        "import numpy as np\n",
        "from keras import layers\n",
        "\n",
        "#Step 1: Data Processing\n",
        "#1.1 Define input image shape\n",
        "input_shape = (500, 500, 3)  # Image dimensions: 500x500 pixels, 3 color channels (RGB)\n",
        "batch_size = 32\n",
        "\n",
        "#1.2 Establish data directories\n",
        "from google.colab import drive\n",
        "drive.mount('/content/drive') #mount google drive\n",
        "zip_file = '/content/drive/My Drive/AER850Proj2/Dataset.zip'\n",
        "extract = '/content/Dataset/Data'\n",
        "with zipfile.ZipFile(zip_file, 'r') as zip_ref:\n",
        "    zip_ref.extractall(extract) #extract data\n",
        "#establish train, validation, and test directories\n",
        "train = os.path.join(extract, 'train')\n",
        "validation = os.path.join(extract, 'valid')\n",
        "test = os.path.join(extract, 'test')\n",
        "#verify data paths are set correctly\n",
        "print(\"Training directory:\", train)\n",
        "print(\"Validation directory:\", validation)\n",
        "print(\"Test directory:\", test)\n",
        "\n",
        "#1.3 Perform Data Augementation\n",
        "# Training data\n",
        "train_data = ImageDataGenerator(\n",
        "    rescale=1/255, #scale pixel values from [0, 255] to [0, 1]\n",
        "    shear_range=0.2, #shear intensity\n",
        "    zoom_range=0.2, #zoom range\n",
        "    horizontal_flip=True #randomly flip images horizontally\n",
        ")\n",
        "# Validation data (note: apply only rescaling for validation)\n",
        "validation_data = ImageDataGenerator(\n",
        "    rescale=1/255 #scale pixel values from [0, 255] to [0, 1]\n",
        ")\n",
        "\n",
        "#1.4 Create the Train and Validation Generators\n",
        "#train generator\n",
        "train_generator = train_data.flow_from_directory(\n",
        "    train,\n",
        "    target_size=(500, 500),      #resize images (500x500 pixels)\n",
        "    batch_size=batch_size,       #batch size 32\n",
        "    class_mode='categorical',    #class mode categorical\n",
        "    shuffle=True                 #shuffle images, ensure randomness\n",
        ")\n",
        "#validation generator\n",
        "validation_generator = validation_data.flow_from_directory(\n",
        "    validation,\n",
        "    target_size=(500, 500),      #resize images (500x500 pixels)\n",
        "    batch_size=batch_size,       # batch size 32\n",
        "    class_mode='categorical',    # class mode categorical\n",
        "    shuffle=False                # no shuffle, doesn't need to be random\n",
        ")\n",
        "#verify generators are set up correctly\n",
        "print(\"Class indices:\", train_generator.class_indices)\n",
        "print(\"Class indices:\", validation_generator.class_indices)\n",
        "\n"
      ]
    },
    {
      "cell_type": "code",
      "source": [],
      "metadata": {
        "id": "Z3m2B0kQV2KK"
      },
      "execution_count": 7,
      "outputs": []
    }
  ]
}